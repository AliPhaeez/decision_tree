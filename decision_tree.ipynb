{
  "cells": [
    {
      "cell_type": "code",
      "execution_count": 2,
      "metadata": {
        "id": "ssiTYkqaVnmO"
      },
      "outputs": [],
      "source": [
        "import pandas as pd\n",
        "import numpy as np\n",
        "import matplotlib.pyplot as plt\n",
        "import warnings \n",
        "warnings.filterwarnings(action='ignore')  \n"
      ]
    },
    {
      "cell_type": "code",
      "execution_count": 4,
      "metadata": {
        "colab": {
          "base_uri": "https://localhost:8080/",
          "height": 299
        },
        "id": "6sjq5xUgWFOA",
        "outputId": "74764fec-a3d6-4f74-fefb-9076c5db900a"
      },
      "outputs": [
        {
          "output_type": "execute_result",
          "data": {
            "text/plain": [
              "   customer_id  vintage  age  gender  dependents  occupation    city  \\\n",
              "0            1     3135   66       0         0.0           0   187.0   \n",
              "1            6     2531   42       0         2.0           0  1494.0   \n",
              "2            7      263   42       1         0.0           0  1096.0   \n",
              "3            8     5922   72       0         0.0           1  1020.0   \n",
              "4            9     1145   46       0         0.0           0   623.0   \n",
              "\n",
              "   customer_nw_category  branch_code  days_since_last_transaction  ...  \\\n",
              "0                     2          755                        224.0  ...   \n",
              "1                     3          388                         58.0  ...   \n",
              "2                     2         1666                         60.0  ...   \n",
              "3                     1            1                         98.0  ...   \n",
              "4                     2          317                        172.0  ...   \n",
              "\n",
              "   previous_month_end_balance  average_monthly_balance_prevQ  \\\n",
              "0                     1458.71                        1458.71   \n",
              "1                     1401.72                        1643.31   \n",
              "2                    16059.34                       15211.29   \n",
              "3                     7714.19                        7859.74   \n",
              "4                     8519.53                        6511.82   \n",
              "\n",
              "   average_monthly_balance_prevQ2  current_month_credit  \\\n",
              "0                         1449.07                  0.20   \n",
              "1                         1871.12                  0.33   \n",
              "2                        13798.82                  0.36   \n",
              "3                        11232.37                  0.64   \n",
              "4                        16314.17                  0.27   \n",
              "\n",
              "   previous_month_credit  current_month_debit  previous_month_debit  \\\n",
              "0                   0.20                 0.20                  0.20   \n",
              "1                 714.61               588.62               1538.06   \n",
              "2                   0.36               857.50                286.07   \n",
              "3                   0.64              1299.64                439.26   \n",
              "4                   0.27               443.13               5688.44   \n",
              "\n",
              "   current_month_balance  previous_month_balance  churn  \n",
              "0                1458.71                 1458.71      0  \n",
              "1                1157.15                 1677.16      1  \n",
              "2               15719.44                15349.75      0  \n",
              "3                7076.06                 7755.98      0  \n",
              "4                8563.84                 5317.04      0  \n",
              "\n",
              "[5 rows x 21 columns]"
            ],
            "text/html": [
              "\n",
              "  <div id=\"df-aba78fe7-0553-4f40-abe3-8e1ffe9dde8f\">\n",
              "    <div class=\"colab-df-container\">\n",
              "      <div>\n",
              "<style scoped>\n",
              "    .dataframe tbody tr th:only-of-type {\n",
              "        vertical-align: middle;\n",
              "    }\n",
              "\n",
              "    .dataframe tbody tr th {\n",
              "        vertical-align: top;\n",
              "    }\n",
              "\n",
              "    .dataframe thead th {\n",
              "        text-align: right;\n",
              "    }\n",
              "</style>\n",
              "<table border=\"1\" class=\"dataframe\">\n",
              "  <thead>\n",
              "    <tr style=\"text-align: right;\">\n",
              "      <th></th>\n",
              "      <th>customer_id</th>\n",
              "      <th>vintage</th>\n",
              "      <th>age</th>\n",
              "      <th>gender</th>\n",
              "      <th>dependents</th>\n",
              "      <th>occupation</th>\n",
              "      <th>city</th>\n",
              "      <th>customer_nw_category</th>\n",
              "      <th>branch_code</th>\n",
              "      <th>days_since_last_transaction</th>\n",
              "      <th>...</th>\n",
              "      <th>previous_month_end_balance</th>\n",
              "      <th>average_monthly_balance_prevQ</th>\n",
              "      <th>average_monthly_balance_prevQ2</th>\n",
              "      <th>current_month_credit</th>\n",
              "      <th>previous_month_credit</th>\n",
              "      <th>current_month_debit</th>\n",
              "      <th>previous_month_debit</th>\n",
              "      <th>current_month_balance</th>\n",
              "      <th>previous_month_balance</th>\n",
              "      <th>churn</th>\n",
              "    </tr>\n",
              "  </thead>\n",
              "  <tbody>\n",
              "    <tr>\n",
              "      <th>0</th>\n",
              "      <td>1</td>\n",
              "      <td>3135</td>\n",
              "      <td>66</td>\n",
              "      <td>0</td>\n",
              "      <td>0.0</td>\n",
              "      <td>0</td>\n",
              "      <td>187.0</td>\n",
              "      <td>2</td>\n",
              "      <td>755</td>\n",
              "      <td>224.0</td>\n",
              "      <td>...</td>\n",
              "      <td>1458.71</td>\n",
              "      <td>1458.71</td>\n",
              "      <td>1449.07</td>\n",
              "      <td>0.20</td>\n",
              "      <td>0.20</td>\n",
              "      <td>0.20</td>\n",
              "      <td>0.20</td>\n",
              "      <td>1458.71</td>\n",
              "      <td>1458.71</td>\n",
              "      <td>0</td>\n",
              "    </tr>\n",
              "    <tr>\n",
              "      <th>1</th>\n",
              "      <td>6</td>\n",
              "      <td>2531</td>\n",
              "      <td>42</td>\n",
              "      <td>0</td>\n",
              "      <td>2.0</td>\n",
              "      <td>0</td>\n",
              "      <td>1494.0</td>\n",
              "      <td>3</td>\n",
              "      <td>388</td>\n",
              "      <td>58.0</td>\n",
              "      <td>...</td>\n",
              "      <td>1401.72</td>\n",
              "      <td>1643.31</td>\n",
              "      <td>1871.12</td>\n",
              "      <td>0.33</td>\n",
              "      <td>714.61</td>\n",
              "      <td>588.62</td>\n",
              "      <td>1538.06</td>\n",
              "      <td>1157.15</td>\n",
              "      <td>1677.16</td>\n",
              "      <td>1</td>\n",
              "    </tr>\n",
              "    <tr>\n",
              "      <th>2</th>\n",
              "      <td>7</td>\n",
              "      <td>263</td>\n",
              "      <td>42</td>\n",
              "      <td>1</td>\n",
              "      <td>0.0</td>\n",
              "      <td>0</td>\n",
              "      <td>1096.0</td>\n",
              "      <td>2</td>\n",
              "      <td>1666</td>\n",
              "      <td>60.0</td>\n",
              "      <td>...</td>\n",
              "      <td>16059.34</td>\n",
              "      <td>15211.29</td>\n",
              "      <td>13798.82</td>\n",
              "      <td>0.36</td>\n",
              "      <td>0.36</td>\n",
              "      <td>857.50</td>\n",
              "      <td>286.07</td>\n",
              "      <td>15719.44</td>\n",
              "      <td>15349.75</td>\n",
              "      <td>0</td>\n",
              "    </tr>\n",
              "    <tr>\n",
              "      <th>3</th>\n",
              "      <td>8</td>\n",
              "      <td>5922</td>\n",
              "      <td>72</td>\n",
              "      <td>0</td>\n",
              "      <td>0.0</td>\n",
              "      <td>1</td>\n",
              "      <td>1020.0</td>\n",
              "      <td>1</td>\n",
              "      <td>1</td>\n",
              "      <td>98.0</td>\n",
              "      <td>...</td>\n",
              "      <td>7714.19</td>\n",
              "      <td>7859.74</td>\n",
              "      <td>11232.37</td>\n",
              "      <td>0.64</td>\n",
              "      <td>0.64</td>\n",
              "      <td>1299.64</td>\n",
              "      <td>439.26</td>\n",
              "      <td>7076.06</td>\n",
              "      <td>7755.98</td>\n",
              "      <td>0</td>\n",
              "    </tr>\n",
              "    <tr>\n",
              "      <th>4</th>\n",
              "      <td>9</td>\n",
              "      <td>1145</td>\n",
              "      <td>46</td>\n",
              "      <td>0</td>\n",
              "      <td>0.0</td>\n",
              "      <td>0</td>\n",
              "      <td>623.0</td>\n",
              "      <td>2</td>\n",
              "      <td>317</td>\n",
              "      <td>172.0</td>\n",
              "      <td>...</td>\n",
              "      <td>8519.53</td>\n",
              "      <td>6511.82</td>\n",
              "      <td>16314.17</td>\n",
              "      <td>0.27</td>\n",
              "      <td>0.27</td>\n",
              "      <td>443.13</td>\n",
              "      <td>5688.44</td>\n",
              "      <td>8563.84</td>\n",
              "      <td>5317.04</td>\n",
              "      <td>0</td>\n",
              "    </tr>\n",
              "  </tbody>\n",
              "</table>\n",
              "<p>5 rows × 21 columns</p>\n",
              "</div>\n",
              "      <button class=\"colab-df-convert\" onclick=\"convertToInteractive('df-aba78fe7-0553-4f40-abe3-8e1ffe9dde8f')\"\n",
              "              title=\"Convert this dataframe to an interactive table.\"\n",
              "              style=\"display:none;\">\n",
              "        \n",
              "  <svg xmlns=\"http://www.w3.org/2000/svg\" height=\"24px\"viewBox=\"0 0 24 24\"\n",
              "       width=\"24px\">\n",
              "    <path d=\"M0 0h24v24H0V0z\" fill=\"none\"/>\n",
              "    <path d=\"M18.56 5.44l.94 2.06.94-2.06 2.06-.94-2.06-.94-.94-2.06-.94 2.06-2.06.94zm-11 1L8.5 8.5l.94-2.06 2.06-.94-2.06-.94L8.5 2.5l-.94 2.06-2.06.94zm10 10l.94 2.06.94-2.06 2.06-.94-2.06-.94-.94-2.06-.94 2.06-2.06.94z\"/><path d=\"M17.41 7.96l-1.37-1.37c-.4-.4-.92-.59-1.43-.59-.52 0-1.04.2-1.43.59L10.3 9.45l-7.72 7.72c-.78.78-.78 2.05 0 2.83L4 21.41c.39.39.9.59 1.41.59.51 0 1.02-.2 1.41-.59l7.78-7.78 2.81-2.81c.8-.78.8-2.07 0-2.86zM5.41 20L4 18.59l7.72-7.72 1.47 1.35L5.41 20z\"/>\n",
              "  </svg>\n",
              "      </button>\n",
              "      \n",
              "  <style>\n",
              "    .colab-df-container {\n",
              "      display:flex;\n",
              "      flex-wrap:wrap;\n",
              "      gap: 12px;\n",
              "    }\n",
              "\n",
              "    .colab-df-convert {\n",
              "      background-color: #E8F0FE;\n",
              "      border: none;\n",
              "      border-radius: 50%;\n",
              "      cursor: pointer;\n",
              "      display: none;\n",
              "      fill: #1967D2;\n",
              "      height: 32px;\n",
              "      padding: 0 0 0 0;\n",
              "      width: 32px;\n",
              "    }\n",
              "\n",
              "    .colab-df-convert:hover {\n",
              "      background-color: #E2EBFA;\n",
              "      box-shadow: 0px 1px 2px rgba(60, 64, 67, 0.3), 0px 1px 3px 1px rgba(60, 64, 67, 0.15);\n",
              "      fill: #174EA6;\n",
              "    }\n",
              "\n",
              "    [theme=dark] .colab-df-convert {\n",
              "      background-color: #3B4455;\n",
              "      fill: #D2E3FC;\n",
              "    }\n",
              "\n",
              "    [theme=dark] .colab-df-convert:hover {\n",
              "      background-color: #434B5C;\n",
              "      box-shadow: 0px 1px 3px 1px rgba(0, 0, 0, 0.15);\n",
              "      filter: drop-shadow(0px 1px 2px rgba(0, 0, 0, 0.3));\n",
              "      fill: #FFFFFF;\n",
              "    }\n",
              "  </style>\n",
              "\n",
              "      <script>\n",
              "        const buttonEl =\n",
              "          document.querySelector('#df-aba78fe7-0553-4f40-abe3-8e1ffe9dde8f button.colab-df-convert');\n",
              "        buttonEl.style.display =\n",
              "          google.colab.kernel.accessAllowed ? 'block' : 'none';\n",
              "\n",
              "        async function convertToInteractive(key) {\n",
              "          const element = document.querySelector('#df-aba78fe7-0553-4f40-abe3-8e1ffe9dde8f');\n",
              "          const dataTable =\n",
              "            await google.colab.kernel.invokeFunction('convertToInteractive',\n",
              "                                                     [key], {});\n",
              "          if (!dataTable) return;\n",
              "\n",
              "          const docLinkHtml = 'Like what you see? Visit the ' +\n",
              "            '<a target=\"_blank\" href=https://colab.research.google.com/notebooks/data_table.ipynb>data table notebook</a>'\n",
              "            + ' to learn more about interactive tables.';\n",
              "          element.innerHTML = '';\n",
              "          dataTable['output_type'] = 'display_data';\n",
              "          await google.colab.output.renderOutput(dataTable, element);\n",
              "          const docLink = document.createElement('div');\n",
              "          docLink.innerHTML = docLinkHtml;\n",
              "          element.appendChild(docLink);\n",
              "        }\n",
              "      </script>\n",
              "    </div>\n",
              "  </div>\n",
              "  "
            ]
          },
          "metadata": {},
          "execution_count": 4
        }
      ],
      "source": [
        "df=pd.read_csv(\"/content/churn_prediction_simple.csv\")\n",
        "df.head()"
      ]
    },
    {
      "cell_type": "code",
      "source": [
        "df.isnull().sum()"
      ],
      "metadata": {
        "colab": {
          "base_uri": "https://localhost:8080/"
        },
        "id": "4g4b-lZz8sbM",
        "outputId": "573e8aa4-cd54-4450-f4d2-cde28080cbd8"
      },
      "execution_count": 5,
      "outputs": [
        {
          "output_type": "execute_result",
          "data": {
            "text/plain": [
              "customer_id                       0\n",
              "vintage                           0\n",
              "age                               0\n",
              "gender                            0\n",
              "dependents                        0\n",
              "occupation                        0\n",
              "city                              0\n",
              "customer_nw_category              0\n",
              "branch_code                       0\n",
              "days_since_last_transaction       0\n",
              "current_balance                   0\n",
              "previous_month_end_balance        0\n",
              "average_monthly_balance_prevQ     0\n",
              "average_monthly_balance_prevQ2    0\n",
              "current_month_credit              0\n",
              "previous_month_credit             0\n",
              "current_month_debit               0\n",
              "previous_month_debit              0\n",
              "current_month_balance             0\n",
              "previous_month_balance            0\n",
              "churn                             0\n",
              "dtype: int64"
            ]
          },
          "metadata": {},
          "execution_count": 5
        }
      ]
    },
    {
      "cell_type": "code",
      "execution_count": 12,
      "metadata": {
        "colab": {
          "base_uri": "https://localhost:8080/",
          "height": 487
        },
        "id": "XSd9GWRuWWPS",
        "outputId": "f3e06c5e-4ba7-4ef3-939d-09819fb85994"
      },
      "outputs": [
        {
          "output_type": "execute_result",
          "data": {
            "text/plain": [
              "       customer_id  vintage  age  gender  dependents  occupation    city  \\\n",
              "0                1     3135   66       0         0.0           0   187.0   \n",
              "1                6     2531   42       0         2.0           0  1494.0   \n",
              "2                7      263   42       1         0.0           0  1096.0   \n",
              "3                8     5922   72       0         0.0           1  1020.0   \n",
              "4                9     1145   46       0         0.0           0   623.0   \n",
              "...            ...      ...  ...     ...         ...         ...     ...   \n",
              "22062        30295     2041   42       0         0.0           0   146.0   \n",
              "22063        30297     1845   10       1         0.0           3  1020.0   \n",
              "22064        30298     4919   34       1         0.0           0  1046.0   \n",
              "22065        30299      297   47       0         0.0           2  1096.0   \n",
              "22066        30301     2349   18       0         0.0           3  1232.0   \n",
              "\n",
              "       customer_nw_category  branch_code  days_since_last_transaction  ...  \\\n",
              "0                         2          755                        224.0  ...   \n",
              "1                         3          388                         58.0  ...   \n",
              "2                         2         1666                         60.0  ...   \n",
              "3                         1            1                         98.0  ...   \n",
              "4                         2          317                        172.0  ...   \n",
              "...                     ...          ...                          ...  ...   \n",
              "22062                     2          286                         57.0  ...   \n",
              "22063                     2         1207                         70.0  ...   \n",
              "22064                     2          223                         14.0  ...   \n",
              "22065                     2          588                          0.0  ...   \n",
              "22066                     2          474                         59.0  ...   \n",
              "\n",
              "       previous_month_end_balance  average_monthly_balance_prevQ  \\\n",
              "0                         1458.71                        1458.71   \n",
              "1                         1401.72                        1643.31   \n",
              "2                        16059.34                       15211.29   \n",
              "3                         7714.19                        7859.74   \n",
              "4                         8519.53                        6511.82   \n",
              "...                           ...                            ...   \n",
              "22062                     6777.41                        8082.48   \n",
              "22063                     1076.43                        2282.19   \n",
              "22064                     4069.21                        3668.83   \n",
              "22065                    61017.55                       53444.81   \n",
              "22066                     2821.34                        3213.44   \n",
              "\n",
              "       average_monthly_balance_prevQ2  current_month_credit  \\\n",
              "0                             1449.07                  0.20   \n",
              "1                             1871.12                  0.33   \n",
              "2                            13798.82                  0.36   \n",
              "3                            11232.37                  0.64   \n",
              "4                            16314.17                  0.27   \n",
              "...                               ...                   ...   \n",
              "22062                         3515.03                  0.51   \n",
              "22063                         2787.70                  0.30   \n",
              "22064                         3865.55                  1.71   \n",
              "22065                        21925.81               4666.84   \n",
              "22066                         4447.45                  0.11   \n",
              "\n",
              "       previous_month_credit  current_month_debit  previous_month_debit  \\\n",
              "0                       0.20                 0.20                  0.20   \n",
              "1                     714.61               588.62               1538.06   \n",
              "2                       0.36               857.50                286.07   \n",
              "3                       0.64              1299.64                439.26   \n",
              "4                       0.27               443.13               5688.44   \n",
              "...                      ...                  ...                   ...   \n",
              "22062                  90.10              1103.20               1183.04   \n",
              "22063                   0.30                 0.30                  0.30   \n",
              "22064                   2.29               901.00               1014.07   \n",
              "22065                3883.06               168.23                 71.80   \n",
              "22066                   7.44               714.40               1094.09   \n",
              "\n",
              "       current_month_balance  previous_month_balance  churn  \n",
              "0                    1458.71                 1458.71      0  \n",
              "1                    1157.15                 1677.16      1  \n",
              "2                   15719.44                15349.75      0  \n",
              "3                    7076.06                 7755.98      0  \n",
              "4                    8563.84                 5317.04      0  \n",
              "...                      ...                     ...    ...  \n",
              "22062                7956.03                 7431.36      0  \n",
              "22063                1076.43                 1076.43      0  \n",
              "22064                3738.54                 3690.32      0  \n",
              "22065               61078.50                57564.24      1  \n",
              "22066                2402.62                 3260.58      1  \n",
              "\n",
              "[22067 rows x 21 columns]"
            ],
            "text/html": [
              "\n",
              "  <div id=\"df-812bf901-b831-4ff2-a582-5e2ffc18ad2c\">\n",
              "    <div class=\"colab-df-container\">\n",
              "      <div>\n",
              "<style scoped>\n",
              "    .dataframe tbody tr th:only-of-type {\n",
              "        vertical-align: middle;\n",
              "    }\n",
              "\n",
              "    .dataframe tbody tr th {\n",
              "        vertical-align: top;\n",
              "    }\n",
              "\n",
              "    .dataframe thead th {\n",
              "        text-align: right;\n",
              "    }\n",
              "</style>\n",
              "<table border=\"1\" class=\"dataframe\">\n",
              "  <thead>\n",
              "    <tr style=\"text-align: right;\">\n",
              "      <th></th>\n",
              "      <th>customer_id</th>\n",
              "      <th>vintage</th>\n",
              "      <th>age</th>\n",
              "      <th>gender</th>\n",
              "      <th>dependents</th>\n",
              "      <th>occupation</th>\n",
              "      <th>city</th>\n",
              "      <th>customer_nw_category</th>\n",
              "      <th>branch_code</th>\n",
              "      <th>days_since_last_transaction</th>\n",
              "      <th>...</th>\n",
              "      <th>previous_month_end_balance</th>\n",
              "      <th>average_monthly_balance_prevQ</th>\n",
              "      <th>average_monthly_balance_prevQ2</th>\n",
              "      <th>current_month_credit</th>\n",
              "      <th>previous_month_credit</th>\n",
              "      <th>current_month_debit</th>\n",
              "      <th>previous_month_debit</th>\n",
              "      <th>current_month_balance</th>\n",
              "      <th>previous_month_balance</th>\n",
              "      <th>churn</th>\n",
              "    </tr>\n",
              "  </thead>\n",
              "  <tbody>\n",
              "    <tr>\n",
              "      <th>0</th>\n",
              "      <td>1</td>\n",
              "      <td>3135</td>\n",
              "      <td>66</td>\n",
              "      <td>0</td>\n",
              "      <td>0.0</td>\n",
              "      <td>0</td>\n",
              "      <td>187.0</td>\n",
              "      <td>2</td>\n",
              "      <td>755</td>\n",
              "      <td>224.0</td>\n",
              "      <td>...</td>\n",
              "      <td>1458.71</td>\n",
              "      <td>1458.71</td>\n",
              "      <td>1449.07</td>\n",
              "      <td>0.20</td>\n",
              "      <td>0.20</td>\n",
              "      <td>0.20</td>\n",
              "      <td>0.20</td>\n",
              "      <td>1458.71</td>\n",
              "      <td>1458.71</td>\n",
              "      <td>0</td>\n",
              "    </tr>\n",
              "    <tr>\n",
              "      <th>1</th>\n",
              "      <td>6</td>\n",
              "      <td>2531</td>\n",
              "      <td>42</td>\n",
              "      <td>0</td>\n",
              "      <td>2.0</td>\n",
              "      <td>0</td>\n",
              "      <td>1494.0</td>\n",
              "      <td>3</td>\n",
              "      <td>388</td>\n",
              "      <td>58.0</td>\n",
              "      <td>...</td>\n",
              "      <td>1401.72</td>\n",
              "      <td>1643.31</td>\n",
              "      <td>1871.12</td>\n",
              "      <td>0.33</td>\n",
              "      <td>714.61</td>\n",
              "      <td>588.62</td>\n",
              "      <td>1538.06</td>\n",
              "      <td>1157.15</td>\n",
              "      <td>1677.16</td>\n",
              "      <td>1</td>\n",
              "    </tr>\n",
              "    <tr>\n",
              "      <th>2</th>\n",
              "      <td>7</td>\n",
              "      <td>263</td>\n",
              "      <td>42</td>\n",
              "      <td>1</td>\n",
              "      <td>0.0</td>\n",
              "      <td>0</td>\n",
              "      <td>1096.0</td>\n",
              "      <td>2</td>\n",
              "      <td>1666</td>\n",
              "      <td>60.0</td>\n",
              "      <td>...</td>\n",
              "      <td>16059.34</td>\n",
              "      <td>15211.29</td>\n",
              "      <td>13798.82</td>\n",
              "      <td>0.36</td>\n",
              "      <td>0.36</td>\n",
              "      <td>857.50</td>\n",
              "      <td>286.07</td>\n",
              "      <td>15719.44</td>\n",
              "      <td>15349.75</td>\n",
              "      <td>0</td>\n",
              "    </tr>\n",
              "    <tr>\n",
              "      <th>3</th>\n",
              "      <td>8</td>\n",
              "      <td>5922</td>\n",
              "      <td>72</td>\n",
              "      <td>0</td>\n",
              "      <td>0.0</td>\n",
              "      <td>1</td>\n",
              "      <td>1020.0</td>\n",
              "      <td>1</td>\n",
              "      <td>1</td>\n",
              "      <td>98.0</td>\n",
              "      <td>...</td>\n",
              "      <td>7714.19</td>\n",
              "      <td>7859.74</td>\n",
              "      <td>11232.37</td>\n",
              "      <td>0.64</td>\n",
              "      <td>0.64</td>\n",
              "      <td>1299.64</td>\n",
              "      <td>439.26</td>\n",
              "      <td>7076.06</td>\n",
              "      <td>7755.98</td>\n",
              "      <td>0</td>\n",
              "    </tr>\n",
              "    <tr>\n",
              "      <th>4</th>\n",
              "      <td>9</td>\n",
              "      <td>1145</td>\n",
              "      <td>46</td>\n",
              "      <td>0</td>\n",
              "      <td>0.0</td>\n",
              "      <td>0</td>\n",
              "      <td>623.0</td>\n",
              "      <td>2</td>\n",
              "      <td>317</td>\n",
              "      <td>172.0</td>\n",
              "      <td>...</td>\n",
              "      <td>8519.53</td>\n",
              "      <td>6511.82</td>\n",
              "      <td>16314.17</td>\n",
              "      <td>0.27</td>\n",
              "      <td>0.27</td>\n",
              "      <td>443.13</td>\n",
              "      <td>5688.44</td>\n",
              "      <td>8563.84</td>\n",
              "      <td>5317.04</td>\n",
              "      <td>0</td>\n",
              "    </tr>\n",
              "    <tr>\n",
              "      <th>...</th>\n",
              "      <td>...</td>\n",
              "      <td>...</td>\n",
              "      <td>...</td>\n",
              "      <td>...</td>\n",
              "      <td>...</td>\n",
              "      <td>...</td>\n",
              "      <td>...</td>\n",
              "      <td>...</td>\n",
              "      <td>...</td>\n",
              "      <td>...</td>\n",
              "      <td>...</td>\n",
              "      <td>...</td>\n",
              "      <td>...</td>\n",
              "      <td>...</td>\n",
              "      <td>...</td>\n",
              "      <td>...</td>\n",
              "      <td>...</td>\n",
              "      <td>...</td>\n",
              "      <td>...</td>\n",
              "      <td>...</td>\n",
              "      <td>...</td>\n",
              "    </tr>\n",
              "    <tr>\n",
              "      <th>22062</th>\n",
              "      <td>30295</td>\n",
              "      <td>2041</td>\n",
              "      <td>42</td>\n",
              "      <td>0</td>\n",
              "      <td>0.0</td>\n",
              "      <td>0</td>\n",
              "      <td>146.0</td>\n",
              "      <td>2</td>\n",
              "      <td>286</td>\n",
              "      <td>57.0</td>\n",
              "      <td>...</td>\n",
              "      <td>6777.41</td>\n",
              "      <td>8082.48</td>\n",
              "      <td>3515.03</td>\n",
              "      <td>0.51</td>\n",
              "      <td>90.10</td>\n",
              "      <td>1103.20</td>\n",
              "      <td>1183.04</td>\n",
              "      <td>7956.03</td>\n",
              "      <td>7431.36</td>\n",
              "      <td>0</td>\n",
              "    </tr>\n",
              "    <tr>\n",
              "      <th>22063</th>\n",
              "      <td>30297</td>\n",
              "      <td>1845</td>\n",
              "      <td>10</td>\n",
              "      <td>1</td>\n",
              "      <td>0.0</td>\n",
              "      <td>3</td>\n",
              "      <td>1020.0</td>\n",
              "      <td>2</td>\n",
              "      <td>1207</td>\n",
              "      <td>70.0</td>\n",
              "      <td>...</td>\n",
              "      <td>1076.43</td>\n",
              "      <td>2282.19</td>\n",
              "      <td>2787.70</td>\n",
              "      <td>0.30</td>\n",
              "      <td>0.30</td>\n",
              "      <td>0.30</td>\n",
              "      <td>0.30</td>\n",
              "      <td>1076.43</td>\n",
              "      <td>1076.43</td>\n",
              "      <td>0</td>\n",
              "    </tr>\n",
              "    <tr>\n",
              "      <th>22064</th>\n",
              "      <td>30298</td>\n",
              "      <td>4919</td>\n",
              "      <td>34</td>\n",
              "      <td>1</td>\n",
              "      <td>0.0</td>\n",
              "      <td>0</td>\n",
              "      <td>1046.0</td>\n",
              "      <td>2</td>\n",
              "      <td>223</td>\n",
              "      <td>14.0</td>\n",
              "      <td>...</td>\n",
              "      <td>4069.21</td>\n",
              "      <td>3668.83</td>\n",
              "      <td>3865.55</td>\n",
              "      <td>1.71</td>\n",
              "      <td>2.29</td>\n",
              "      <td>901.00</td>\n",
              "      <td>1014.07</td>\n",
              "      <td>3738.54</td>\n",
              "      <td>3690.32</td>\n",
              "      <td>0</td>\n",
              "    </tr>\n",
              "    <tr>\n",
              "      <th>22065</th>\n",
              "      <td>30299</td>\n",
              "      <td>297</td>\n",
              "      <td>47</td>\n",
              "      <td>0</td>\n",
              "      <td>0.0</td>\n",
              "      <td>2</td>\n",
              "      <td>1096.0</td>\n",
              "      <td>2</td>\n",
              "      <td>588</td>\n",
              "      <td>0.0</td>\n",
              "      <td>...</td>\n",
              "      <td>61017.55</td>\n",
              "      <td>53444.81</td>\n",
              "      <td>21925.81</td>\n",
              "      <td>4666.84</td>\n",
              "      <td>3883.06</td>\n",
              "      <td>168.23</td>\n",
              "      <td>71.80</td>\n",
              "      <td>61078.50</td>\n",
              "      <td>57564.24</td>\n",
              "      <td>1</td>\n",
              "    </tr>\n",
              "    <tr>\n",
              "      <th>22066</th>\n",
              "      <td>30301</td>\n",
              "      <td>2349</td>\n",
              "      <td>18</td>\n",
              "      <td>0</td>\n",
              "      <td>0.0</td>\n",
              "      <td>3</td>\n",
              "      <td>1232.0</td>\n",
              "      <td>2</td>\n",
              "      <td>474</td>\n",
              "      <td>59.0</td>\n",
              "      <td>...</td>\n",
              "      <td>2821.34</td>\n",
              "      <td>3213.44</td>\n",
              "      <td>4447.45</td>\n",
              "      <td>0.11</td>\n",
              "      <td>7.44</td>\n",
              "      <td>714.40</td>\n",
              "      <td>1094.09</td>\n",
              "      <td>2402.62</td>\n",
              "      <td>3260.58</td>\n",
              "      <td>1</td>\n",
              "    </tr>\n",
              "  </tbody>\n",
              "</table>\n",
              "<p>22067 rows × 21 columns</p>\n",
              "</div>\n",
              "      <button class=\"colab-df-convert\" onclick=\"convertToInteractive('df-812bf901-b831-4ff2-a582-5e2ffc18ad2c')\"\n",
              "              title=\"Convert this dataframe to an interactive table.\"\n",
              "              style=\"display:none;\">\n",
              "        \n",
              "  <svg xmlns=\"http://www.w3.org/2000/svg\" height=\"24px\"viewBox=\"0 0 24 24\"\n",
              "       width=\"24px\">\n",
              "    <path d=\"M0 0h24v24H0V0z\" fill=\"none\"/>\n",
              "    <path d=\"M18.56 5.44l.94 2.06.94-2.06 2.06-.94-2.06-.94-.94-2.06-.94 2.06-2.06.94zm-11 1L8.5 8.5l.94-2.06 2.06-.94-2.06-.94L8.5 2.5l-.94 2.06-2.06.94zm10 10l.94 2.06.94-2.06 2.06-.94-2.06-.94-.94-2.06-.94 2.06-2.06.94z\"/><path d=\"M17.41 7.96l-1.37-1.37c-.4-.4-.92-.59-1.43-.59-.52 0-1.04.2-1.43.59L10.3 9.45l-7.72 7.72c-.78.78-.78 2.05 0 2.83L4 21.41c.39.39.9.59 1.41.59.51 0 1.02-.2 1.41-.59l7.78-7.78 2.81-2.81c.8-.78.8-2.07 0-2.86zM5.41 20L4 18.59l7.72-7.72 1.47 1.35L5.41 20z\"/>\n",
              "  </svg>\n",
              "      </button>\n",
              "      \n",
              "  <style>\n",
              "    .colab-df-container {\n",
              "      display:flex;\n",
              "      flex-wrap:wrap;\n",
              "      gap: 12px;\n",
              "    }\n",
              "\n",
              "    .colab-df-convert {\n",
              "      background-color: #E8F0FE;\n",
              "      border: none;\n",
              "      border-radius: 50%;\n",
              "      cursor: pointer;\n",
              "      display: none;\n",
              "      fill: #1967D2;\n",
              "      height: 32px;\n",
              "      padding: 0 0 0 0;\n",
              "      width: 32px;\n",
              "    }\n",
              "\n",
              "    .colab-df-convert:hover {\n",
              "      background-color: #E2EBFA;\n",
              "      box-shadow: 0px 1px 2px rgba(60, 64, 67, 0.3), 0px 1px 3px 1px rgba(60, 64, 67, 0.15);\n",
              "      fill: #174EA6;\n",
              "    }\n",
              "\n",
              "    [theme=dark] .colab-df-convert {\n",
              "      background-color: #3B4455;\n",
              "      fill: #D2E3FC;\n",
              "    }\n",
              "\n",
              "    [theme=dark] .colab-df-convert:hover {\n",
              "      background-color: #434B5C;\n",
              "      box-shadow: 0px 1px 3px 1px rgba(0, 0, 0, 0.15);\n",
              "      filter: drop-shadow(0px 1px 2px rgba(0, 0, 0, 0.3));\n",
              "      fill: #FFFFFF;\n",
              "    }\n",
              "  </style>\n",
              "\n",
              "      <script>\n",
              "        const buttonEl =\n",
              "          document.querySelector('#df-812bf901-b831-4ff2-a582-5e2ffc18ad2c button.colab-df-convert');\n",
              "        buttonEl.style.display =\n",
              "          google.colab.kernel.accessAllowed ? 'block' : 'none';\n",
              "\n",
              "        async function convertToInteractive(key) {\n",
              "          const element = document.querySelector('#df-812bf901-b831-4ff2-a582-5e2ffc18ad2c');\n",
              "          const dataTable =\n",
              "            await google.colab.kernel.invokeFunction('convertToInteractive',\n",
              "                                                     [key], {});\n",
              "          if (!dataTable) return;\n",
              "\n",
              "          const docLinkHtml = 'Like what you see? Visit the ' +\n",
              "            '<a target=\"_blank\" href=https://colab.research.google.com/notebooks/data_table.ipynb>data table notebook</a>'\n",
              "            + ' to learn more about interactive tables.';\n",
              "          element.innerHTML = '';\n",
              "          dataTable['output_type'] = 'display_data';\n",
              "          await google.colab.output.renderOutput(dataTable, element);\n",
              "          const docLink = document.createElement('div');\n",
              "          docLink.innerHTML = docLinkHtml;\n",
              "          element.appendChild(docLink);\n",
              "        }\n",
              "      </script>\n",
              "    </div>\n",
              "  </div>\n",
              "  "
            ]
          },
          "metadata": {},
          "execution_count": 12
        }
      ],
      "source": [
        "\n",
        "df.dropna()"
      ]
    },
    {
      "cell_type": "code",
      "execution_count": 13,
      "metadata": {
        "colab": {
          "base_uri": "https://localhost:8080/"
        },
        "id": "RCtfRRTPWcbK",
        "outputId": "8e1ecf40-ab0f-4264-db1a-a8ebbde4fce8"
      },
      "outputs": [
        {
          "output_type": "stream",
          "name": "stdout",
          "text": [
            "<class 'pandas.core.frame.DataFrame'>\n",
            "RangeIndex: 22067 entries, 0 to 22066\n",
            "Data columns (total 21 columns):\n",
            " #   Column                          Non-Null Count  Dtype  \n",
            "---  ------                          --------------  -----  \n",
            " 0   customer_id                     22067 non-null  int64  \n",
            " 1   vintage                         22067 non-null  int64  \n",
            " 2   age                             22067 non-null  int64  \n",
            " 3   gender                          22067 non-null  int64  \n",
            " 4   dependents                      22067 non-null  float64\n",
            " 5   occupation                      22067 non-null  int64  \n",
            " 6   city                            22067 non-null  float64\n",
            " 7   customer_nw_category            22067 non-null  int64  \n",
            " 8   branch_code                     22067 non-null  int64  \n",
            " 9   days_since_last_transaction     22067 non-null  float64\n",
            " 10  current_balance                 22067 non-null  float64\n",
            " 11  previous_month_end_balance      22067 non-null  float64\n",
            " 12  average_monthly_balance_prevQ   22067 non-null  float64\n",
            " 13  average_monthly_balance_prevQ2  22067 non-null  float64\n",
            " 14  current_month_credit            22067 non-null  float64\n",
            " 15  previous_month_credit           22067 non-null  float64\n",
            " 16  current_month_debit             22067 non-null  float64\n",
            " 17  previous_month_debit            22067 non-null  float64\n",
            " 18  current_month_balance           22067 non-null  float64\n",
            " 19  previous_month_balance          22067 non-null  float64\n",
            " 20  churn                           22067 non-null  int64  \n",
            "dtypes: float64(13), int64(8)\n",
            "memory usage: 3.5 MB\n"
          ]
        }
      ],
      "source": [
        "df.info()"
      ]
    },
    {
      "cell_type": "code",
      "execution_count": 14,
      "metadata": {
        "id": "YgVAGE7wWxTY"
      },
      "outputs": [],
      "source": [
        "\n",
        "x=df.drop(columns=['churn','customer_id'])\n",
        "y=df['churn']"
      ]
    },
    {
      "cell_type": "code",
      "execution_count": 15,
      "metadata": {
        "id": "8ryAuDgsXBiU"
      },
      "outputs": [],
      "source": [
        "from sklearn.preprocessing import StandardScaler\n",
        "sc=StandardScaler()\n",
        "scaled_x=sc.fit(x)"
      ]
    },
    {
      "cell_type": "code",
      "source": [
        "scaled_x=sc.transform(x)"
      ],
      "metadata": {
        "id": "4HnaEMMN6VQV"
      },
      "execution_count": 16,
      "outputs": []
    },
    {
      "cell_type": "code",
      "source": [
        "scaled_x.shape"
      ],
      "metadata": {
        "colab": {
          "base_uri": "https://localhost:8080/"
        },
        "id": "1HDBgXYw8L2q",
        "outputId": "2e224846-d621-4869-9c59-db457accde85"
      },
      "execution_count": 17,
      "outputs": [
        {
          "output_type": "execute_result",
          "data": {
            "text/plain": [
              "(22067, 19)"
            ]
          },
          "metadata": {},
          "execution_count": 17
        }
      ]
    },
    {
      "cell_type": "code",
      "execution_count": 18,
      "metadata": {
        "colab": {
          "base_uri": "https://localhost:8080/"
        },
        "id": "QmaPf5srXWWC",
        "outputId": "3429790e-b9ad-4888-cd5c-59ee40c26c6a"
      },
      "outputs": [
        {
          "output_type": "execute_result",
          "data": {
            "text/plain": [
              "((17653, 19), (17653,), (4414, 19), (4414,))"
            ]
          },
          "metadata": {},
          "execution_count": 18
        }
      ],
      "source": [
        "from sklearn.model_selection import train_test_split as tts\n",
        "x_train,x_test,y_train,y_test=tts(scaled_x,y ,train_size=0.8,stratify=y)\n",
        "x_train.shape,y_train.shape,x_test.shape,y_test.shape"
      ]
    },
    {
      "cell_type": "code",
      "execution_count": 19,
      "metadata": {
        "id": "UbWY4y7FX1JT"
      },
      "outputs": [],
      "source": [
        "from sklearn.tree import DecisionTreeClassifier as dtc\n",
        "classifier=dtc(class_weight='balanced')      # each calss get equal significance irrespective of the uneven dist \n",
        "classifier=dtc()\n"
      ]
    },
    {
      "cell_type": "code",
      "execution_count": 20,
      "metadata": {
        "id": "A5qCvm9EZC9C"
      },
      "outputs": [],
      "source": [
        "classifier.fit(x_train,y_train)\n",
        "predicted_values=classifier.predict(x_train)"
      ]
    },
    {
      "cell_type": "code",
      "execution_count": 21,
      "metadata": {
        "colab": {
          "base_uri": "https://localhost:8080/"
        },
        "id": "S7NFXvKbZkms",
        "outputId": "04f36043-e966-46d8-b166-1efd22906c3b"
      },
      "outputs": [
        {
          "output_type": "execute_result",
          "data": {
            "text/plain": [
              "(17653,)"
            ]
          },
          "metadata": {},
          "execution_count": 21
        }
      ],
      "source": [
        "predicted_values.shape"
      ]
    },
    {
      "cell_type": "markdown",
      "metadata": {
        "id": "c7oVj6uYpVQH"
      },
      "source": [
        "##evaluation matrix"
      ]
    },
    {
      "cell_type": "code",
      "execution_count": 22,
      "metadata": {
        "colab": {
          "base_uri": "https://localhost:8080/"
        },
        "id": "YqBoqyRRpSxl",
        "outputId": "f4ba9d26-7ce9-4587-805b-a9a98ed9c1d0"
      },
      "outputs": [
        {
          "output_type": "stream",
          "name": "stdout",
          "text": [
            "              precision    recall  f1-score   support\n",
            "\n",
            "           0       1.00      1.00      1.00     14234\n",
            "           1       1.00      1.00      1.00      3419\n",
            "\n",
            "    accuracy                           1.00     17653\n",
            "   macro avg       1.00      1.00      1.00     17653\n",
            "weighted avg       1.00      1.00      1.00     17653\n",
            "\n"
          ]
        }
      ],
      "source": [
        "from sklearn.metrics import classification_report\n",
        "print(classification_report(y_train,predicted_values))        #overfitting"
      ]
    },
    {
      "cell_type": "code",
      "execution_count": 23,
      "metadata": {
        "colab": {
          "base_uri": "https://localhost:8080/"
        },
        "id": "5dBxuCgBpuwx",
        "outputId": "e4bfaf7f-5390-4480-c37b-f37d02594ecd"
      },
      "outputs": [
        {
          "output_type": "stream",
          "name": "stdout",
          "text": [
            "              precision    recall  f1-score   support\n",
            "\n",
            "           0       0.87      0.84      0.86      3559\n",
            "           1       0.43      0.48      0.45       855\n",
            "\n",
            "    accuracy                           0.77      4414\n",
            "   macro avg       0.65      0.66      0.65      4414\n",
            "weighted avg       0.79      0.77      0.78      4414\n",
            "\n"
          ]
        }
      ],
      "source": [
        "predicted_values=classifier.predict(x_test)\n",
        "print(classification_report(y_test,predicted_values))           #underfitting"
      ]
    },
    {
      "cell_type": "code",
      "execution_count": 24,
      "metadata": {
        "colab": {
          "base_uri": "https://localhost:8080/"
        },
        "id": "RZ6j-3uRp-qg",
        "outputId": "0b33b6fa-5e7f-451b-f5f2-f6fe6339598c"
      },
      "outputs": [
        {
          "output_type": "stream",
          "name": "stdout",
          "text": [
            "Looking in indexes: https://pypi.org/simple, https://us-python.pkg.dev/colab-wheels/public/simple/\n",
            "Requirement already satisfied: graphviz in /usr/local/lib/python3.7/dist-packages (0.10.1)\n"
          ]
        }
      ],
      "source": [
        "\n",
        "!pip install graphviz"
      ]
    },
    {
      "cell_type": "code",
      "execution_count": null,
      "metadata": {
        "id": "-evSA-3RsW7e"
      },
      "outputs": [],
      "source": [
        "from sklearn.tree import export_graphviz\n",
        "export_graphviz(decision_tree=classifier,out_file='tree_viz',max_depth=None, feature_names = x.columns,label=None,impurity=False)"
      ]
    },
    {
      "cell_type": "code",
      "execution_count": null,
      "metadata": {
        "colab": {
          "base_uri": "https://localhost:8080/",
          "height": 36
        },
        "id": "P3GIvi89tCze",
        "outputId": "af676216-6269-462c-86ff-1478fe8266f4"
      },
      "outputs": [
        {
          "data": {
            "application/vnd.google.colaboratory.intrinsic+json": {
              "type": "string"
            },
            "text/plain": [
              "'tree_viz.png'"
            ]
          },
          "execution_count": 20,
          "metadata": {},
          "output_type": "execute_result"
        }
      ],
      "source": [
        "from graphviz import render\n",
        "render(filepath='tree_viz',format='png',engine='neato')"
      ]
    },
    {
      "cell_type": "markdown",
      "metadata": {
        "id": "PpNfwjXBrMgl"
      },
      "source": [
        "##hyper parameter tunning"
      ]
    },
    {
      "cell_type": "markdown",
      "metadata": {
        "id": "3233q5xtvfnh"
      },
      "source": [
        "##1 max depth"
      ]
    },
    {
      "cell_type": "code",
      "execution_count": 25,
      "metadata": {
        "id": "QIG2lR7otSV9",
        "colab": {
          "base_uri": "https://localhost:8080/"
        },
        "outputId": "b0e12ae7-c8e3-4964-a7b3-f7db79f9a1af"
      },
      "outputs": [
        {
          "output_type": "stream",
          "name": "stdout",
          "text": [
            "DecisionTreeClassifier()\n"
          ]
        }
      ],
      "source": [
        "classifier=dtc()\n",
        "print(classifier.fit(x_train,y_train))"
      ]
    },
    {
      "cell_type": "code",
      "execution_count": 26,
      "metadata": {
        "id": "ooGMDrtmgYGw"
      },
      "outputs": [],
      "source": [
        "from sklearn.metrics import f1_score"
      ]
    },
    {
      "cell_type": "code",
      "execution_count": 27,
      "metadata": {
        "id": "yhfQ9aL0gfjh"
      },
      "outputs": [],
      "source": [
        "def calc_score(model,x1,y1,x2,y2):\n",
        "  model.fit(x1,y1)\n",
        "\n",
        "  predict=model.predict(x1)\n",
        "  f1=f1_score(y1,predict)\n",
        "\n",
        "  predict=model.predict(x2)\n",
        "  f2=f1_score(y2,predict)\n",
        "\n",
        "  return f1,f2"
      ]
    },
    {
      "cell_type": "code",
      "execution_count": 28,
      "metadata": {
        "id": "ETbB-gCxvXRB"
      },
      "outputs": [],
      "source": [
        "\n",
        "def effect(train_score,test_score,x_axis,title):\n",
        "  plt.figure(figsize=(5,5),dpi=100  )\n",
        "  plt.plot(x_axis,train_score,color='red',label='train_score')\n",
        "  plt.plot(x_axis,test_score,color='blue',label='test_score')\n",
        "  plt.title(title)\n",
        "  plt.legend()\n",
        "  plt.xlabel('parameter_value')\n",
        "  plt.ylabel('f1_score')\n",
        "  plt.show()"
      ]
    },
    {
      "cell_type": "code",
      "execution_count": 32,
      "metadata": {
        "id": "wo5Lfhw_tvp4"
      },
      "outputs": [],
      "source": [
        "max_depth=[i for i  in range(1,50)]\n",
        "test=[]\n",
        "train=[]\n",
        "\n",
        "for i in max_depth:\n",
        "  model=dtc(class_weight='balanced' ,max_depth=i,random_state=34)\n",
        "  f1,f2=calc_score(model,x_train,y_train,x_test,y_test)\n",
        "  train.append(f1)\n",
        "  test.append(f2)"
      ]
    },
    {
      "cell_type": "code",
      "execution_count": 33,
      "metadata": {
        "colab": {
          "base_uri": "https://localhost:8080/",
          "height": 480
        },
        "id": "J0Fn80MPuvzY",
        "outputId": "d7eee287-141f-4767-f547-9b624b99df21"
      },
      "outputs": [
        {
          "output_type": "display_data",
          "data": {
            "text/plain": [
              "<Figure size 500x500 with 1 Axes>"
            ],
            "image/png": "[encoded data removed]"
          },
          "metadata": {
            "needs_background": "light"
          }
        }
      ],
      "source": [
        "effect(train,test,max_depth,'max_depth' )\n"
      ]
    },
    {
      "cell_type": "markdown",
      "metadata": {
        "id": "M4_KRJ1kvk10"
      },
      "source": [
        "##2 min sample split   default set to 2"
      ]
    },
    {
      "cell_type": "code",
      "execution_count": 34,
      "metadata": {
        "id": "-TBljsEDvLkE"
      },
      "outputs": [],
      "source": [
        "min_sample_split=[i for i in range(2,25000,25)]\n",
        "train=[]\n",
        "test=[]\n",
        "\n",
        "for i in min_sample_split:\n",
        "  model=dtc(class_weight='balanced',min_samples_split=i,random_state=54)\n",
        "  f1,f2=calc_score(model,x_train,y_train,x_test,y_test)\n",
        "  train.append(f1)\n",
        "  test.append(f2)"
      ]
    },
    {
      "cell_type": "code",
      "execution_count": 35,
      "metadata": {
        "colab": {
          "base_uri": "https://localhost:8080/",
          "height": 480
        },
        "id": "O7Ygo2xKwtUN",
        "outputId": "3936b02c-0cd5-4f6a-a8e6-4609927d949a"
      },
      "outputs": [
        {
          "output_type": "display_data",
          "data": {
            "text/plain": [
              "<Figure size 500x500 with 1 Axes>"
            ],
            "image/png": "[encoded data removed]"
          },
          "metadata": {
            "needs_background": "light"
          }
        }
      ],
      "source": [
        "effect(train,test,min_sample_split,'min_sample_split')"
      ]
    },
    {
      "cell_type": "markdown",
      "metadata": {
        "id": "iZwgWbbRxwGv"
      },
      "source": [
        "##3 max leaf nodes"
      ]
    },
    {
      "cell_type": "code",
      "execution_count": 39,
      "metadata": {
        "id": "VAYaRu0OxKK2"
      },
      "outputs": [],
      "source": [
        "max_leaf_node=[i for i in range(2,150,10)]\n",
        "train=[]\n",
        "test=[]\n",
        "\n",
        "for i in max_leaf_node:\n",
        "  model=dtc(class_weight='balanced',max_leaf_nodes=i,random_state=54)\n",
        "  f1,f2=calc_score(model,x_train,y_train,x_test,y_test)\n",
        "  train.append(f1)\n",
        "  test.append(f2)\n"
      ]
    },
    {
      "cell_type": "code",
      "execution_count": 40,
      "metadata": {
        "id": "3pzCfYrgyJaV",
        "colab": {
          "base_uri": "https://localhost:8080/",
          "height": 480
        },
        "outputId": "fc6bf344-dc6a-4a1c-af09-3333852556fb"
      },
      "outputs": [
        {
          "output_type": "display_data",
          "data": {
            "text/plain": [
              "<Figure size 500x500 with 1 Axes>"
            ],
            "image/png": "[encoded data removed]"
          },
          "metadata": {
            "needs_background": "light"
          }
        }
      ],
      "source": [
        "effect(train,test,max_leaf_node,'max_leaf_node')"
      ]
    },
    {
      "cell_type": "markdown",
      "source": [
        "## evaluation with tuned parameters"
      ],
      "metadata": {
        "id": "hbc2MwE4Ix1K"
      }
    },
    {
      "cell_type": "code",
      "execution_count": 46,
      "metadata": {
        "id": "L0PhD_8qzfMP",
        "colab": {
          "base_uri": "https://localhost:8080/"
        },
        "outputId": "01589949-bf41-4e44-830b-3bc812f1425e"
      },
      "outputs": [
        {
          "output_type": "execute_result",
          "data": {
            "text/plain": [
              "DecisionTreeClassifier(max_depth=8, max_leaf_nodes=19, min_samples_split=900)"
            ]
          },
          "metadata": {},
          "execution_count": 46
        }
      ],
      "source": [
        "model=dtc(max_depth=8,min_samples_split=900,max_leaf_nodes=19)\n",
        "model.fit(x_train,y_train)"
      ]
    },
    {
      "cell_type": "code",
      "source": [
        "pred_values=model.predict(x_train)"
      ],
      "metadata": {
        "id": "d5aifnNyHwtd"
      },
      "execution_count": 47,
      "outputs": []
    },
    {
      "cell_type": "code",
      "source": [
        "pred_values.shape"
      ],
      "metadata": {
        "colab": {
          "base_uri": "https://localhost:8080/"
        },
        "id": "9bSXMyPWH8c3",
        "outputId": "1a4beb8c-9fc8-4a62-86e3-139922c1b957"
      },
      "execution_count": 48,
      "outputs": [
        {
          "output_type": "execute_result",
          "data": {
            "text/plain": [
              "(17653,)"
            ]
          },
          "metadata": {},
          "execution_count": 48
        }
      ]
    },
    {
      "cell_type": "code",
      "source": [
        "print(classification_report(y_train,pred_values))  "
      ],
      "metadata": {
        "colab": {
          "base_uri": "https://localhost:8080/"
        },
        "id": "9jbld1uOIA2v",
        "outputId": "fdf39179-7993-4861-8e78-dd89dc36bf26"
      },
      "execution_count": 49,
      "outputs": [
        {
          "output_type": "stream",
          "name": "stdout",
          "text": [
            "              precision    recall  f1-score   support\n",
            "\n",
            "           0       0.87      0.96      0.91     14234\n",
            "           1       0.69      0.38      0.49      3419\n",
            "\n",
            "    accuracy                           0.85     17653\n",
            "   macro avg       0.78      0.67      0.70     17653\n",
            "weighted avg       0.83      0.85      0.83     17653\n",
            "\n"
          ]
        }
      ]
    },
    {
      "cell_type": "code",
      "source": [
        "pred_values1=model.predict(x_test)"
      ],
      "metadata": {
        "id": "I2grseEsIX2R"
      },
      "execution_count": 51,
      "outputs": []
    },
    {
      "cell_type": "code",
      "source": [
        "print(classification_report(y_test,pred_values1))       #increase in accuracy from 77 to 85% "
      ],
      "metadata": {
        "colab": {
          "base_uri": "https://localhost:8080/"
        },
        "id": "nDbFXZKoIKDm",
        "outputId": "af06b3a0-caff-459c-f48b-a907aab744aa"
      },
      "execution_count": 52,
      "outputs": [
        {
          "output_type": "stream",
          "name": "stdout",
          "text": [
            "              precision    recall  f1-score   support\n",
            "\n",
            "           0       0.87      0.96      0.91      3559\n",
            "           1       0.70      0.40      0.51       855\n",
            "\n",
            "    accuracy                           0.85      4414\n",
            "   macro avg       0.79      0.68      0.71      4414\n",
            "weighted avg       0.84      0.85      0.83      4414\n",
            "\n"
          ]
        }
      ]
    },
    {
      "cell_type": "code",
      "execution_count": 44,
      "metadata": {
        "id": "re77BRV0zoRb"
      },
      "outputs": [],
      "source": [
        "#important features\n",
        "feature_imp=pd.Series(model.feature_importances_,index=x.columns)\n",
        "k=feature_imp.sort_values()\n"
      ]
    },
    {
      "cell_type": "code",
      "source": [
        "k"
      ],
      "metadata": {
        "colab": {
          "base_uri": "https://localhost:8080/"
        },
        "id": "72uipVZMGjvl",
        "outputId": "8539afc7-36a3-4dfa-c596-5b0723877451"
      },
      "execution_count": 45,
      "outputs": [
        {
          "output_type": "execute_result",
          "data": {
            "text/plain": [
              "gender                            0.002737\n",
              "customer_nw_category              0.002846\n",
              "dependents                        0.004434\n",
              "occupation                        0.005174\n",
              "days_since_last_transaction       0.009166\n",
              "age                               0.015139\n",
              "city                              0.015703\n",
              "branch_code                       0.020738\n",
              "previous_month_end_balance        0.024110\n",
              "previous_month_credit             0.024132\n",
              "vintage                           0.029756\n",
              "current_month_credit              0.031462\n",
              "current_month_balance             0.033357\n",
              "average_monthly_balance_prevQ2    0.046970\n",
              "previous_month_debit              0.052942\n",
              "previous_month_balance            0.058519\n",
              "current_month_debit               0.078173\n",
              "average_monthly_balance_prevQ     0.085151\n",
              "current_balance                   0.459488\n",
              "dtype: float64"
            ]
          },
          "metadata": {},
          "execution_count": 45
        }
      ]
    },
    {
      "cell_type": "code",
      "source": [],
      "metadata": {
        "id": "dl6VAswRGzP5"
      },
      "execution_count": null,
      "outputs": []
    }
  ],
  "metadata": {
    "colab": {
      "collapsed_sections": [],
      "provenance": []
    },
    "kernelspec": {
      "display_name": "Python 3",
      "name": "python3"
    },
    "language_info": {
      "name": "python"
    }
  },
  "nbformat": 4,
  "nbformat_minor": 0
}